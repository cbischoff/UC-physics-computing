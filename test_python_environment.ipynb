{
 "cells": [
  {
   "cell_type": "markdown",
   "metadata": {},
   "source": [
    "# Test your python environment\n",
    "\n",
    "Welcome to the first Jupyter notebook of the semester! A Jupyter notebook consists of cells that can contain text, images, and code. It allows you to work through a data analysis *and also explain what you are doing.*\n",
    "\n",
    "This Jupyter notebook contains several cells containing simple python code. All it is intended to do is to import some of the python modules that we will use during the semester and to check what version of the modules is installed. It will also generate a simple plot to make sure that plotting works correctly.\n",
    "\n",
    "To run the code cells, click to highlight them and then either press the \"Run\" button on the toolbar above or just type shift-enter. Most of these cells will just print out the installed version of each module. One of the cells should generate a plot of a sin wave.\n"
   ]
  },
  {
   "cell_type": "code",
   "execution_count": null,
   "metadata": {},
   "outputs": [],
   "source": [
    "# Check what version of python is running.\n",
    "import sys\n",
    "print(\"python version: {}\".format(sys.version))\n"
   ]
  },
  {
   "cell_type": "code",
   "execution_count": null,
   "metadata": {},
   "outputs": [],
   "source": [
    "# Numpy includes the ndarray object, which is a flexible container for multi-dimensional numeric datasets.\n",
    "# It also includes lots of mathematical functions (trig functions, log/exponential, etc).\n",
    "import numpy as np\n",
    "print(\"numpy version: {}\".format(np.__version__))\n"
   ]
  },
  {
   "cell_type": "code",
   "execution_count": null,
   "metadata": {},
   "outputs": [],
   "source": [
    "# Scipy includes routines for optimization, numeric integration, interpolation, linear algebra, etc.\n",
    "import scipy\n",
    "print(\"scipy version: {}\".format(scipy.__version__))\n"
   ]
  },
  {
   "cell_type": "code",
   "execution_count": null,
   "metadata": {},
   "outputs": [],
   "source": [
    "# Matplotlib is a full-featured plotting library.\n",
    "import matplotlib\n",
    "print(\"matplotlib version: {}\".format(matplotlib.__version__))\n"
   ]
  },
  {
   "cell_type": "code",
   "execution_count": null,
   "metadata": {},
   "outputs": [],
   "source": [
    "# We will mostly use the pyplot sub-module of matplotlib, which implements a matlab-style plotting interface.\n",
    "# This line that starts with a '%' (percent sign) is a special command that tells the Jupyter notebook to \n",
    "# display figures inline, i.e. as part of the notebook page.\n",
    "%matplotlib inline\n",
    "import matplotlib.pyplot as plt\n",
    "x = np.linspace(0, 10 * np.pi, 1000)\n",
    "plt.plot(x, np.sin(x))\n",
    "plt.xlabel(\"x\", fontsize=14)\n",
    "plt.ylabel(\"sin(x)\", fontsize=14)\n",
    "plt.title(\"test plot\")\n"
   ]
  },
  {
   "cell_type": "code",
   "execution_count": null,
   "metadata": {},
   "outputs": [],
   "source": [
    "# The pandas module implements a DataFrame object, which is a flexible 2d table that can be indexed, sorted, etc.\n",
    "import pandas as pd\n",
    "print(\"pandas version: {}\".format(pd.__version__))\n"
   ]
  },
  {
   "cell_type": "code",
   "execution_count": null,
   "metadata": {},
   "outputs": [],
   "source": [
    "# The astropy module contains core functions for astronomical calculations, including time, coordinate systems, etc.\n",
    "import astropy\n",
    "print(\"astropy version: {}\".format(astropy.__version__))\n"
   ]
  },
  {
   "cell_type": "markdown",
   "metadata": {},
   "source": [
    "If you have errors getting any of these cells to run, then it probably means that you are missing some modules. Feel free to contact me and I will try to help you get to the bottom of it.\n"
   ]
  }
 ],
 "metadata": {
  "kernelspec": {
   "display_name": "Python 3",
   "language": "python",
   "name": "python3"
  },
  "language_info": {
   "codemirror_mode": {
    "name": "ipython",
    "version": 3
   },
   "file_extension": ".py",
   "mimetype": "text/x-python",
   "name": "python",
   "nbconvert_exporter": "python",
   "pygments_lexer": "ipython3",
   "version": "3.8.5"
  }
 },
 "nbformat": 4,
 "nbformat_minor": 4
}
